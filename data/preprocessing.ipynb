{
 "cells": [
  {
   "cell_type": "code",
   "execution_count": 1,
   "id": "b7dcfc60-0c88-4545-98ba-a41041bcaaf1",
   "metadata": {},
   "outputs": [],
   "source": [
    "import os\n",
    "import sys\n",
    "import pandas as pd\n",
    "\n",
    "from glob import glob\n",
    "from tqdm.auto import tqdm\n",
    "from PIL import Image, ImageDraw"
   ]
  },
  {
   "cell_type": "code",
   "execution_count": 2,
   "id": "400a5b19-5ae3-4073-84e1-f276642d10ed",
   "metadata": {},
   "outputs": [],
   "source": [
    "train_data_lst = sorted(list(glob(\"/home/data/train/images/*.jpg\")))\n",
    "train_label_lst = sorted(list(glob(\"/home/data/train/labels_old/*.json\")))"
   ]
  },
  {
   "cell_type": "code",
   "execution_count": null,
   "id": "a5cfcb2e-6997-4d9b-a8cc-24bba7094ab8",
   "metadata": {},
   "outputs": [],
   "source": [
    "len(train_data_lst), len(train_label_lst)"
   ]
  },
  {
   "cell_type": "markdown",
   "id": "7806e961-3b16-486f-bc66-cec61502260c",
   "metadata": {},
   "source": [
    "### Change YOLO Format"
   ]
  },
  {
   "cell_type": "code",
   "execution_count": 3,
   "id": "68eec048-bc4f-412b-a1fb-922c629e2bfc",
   "metadata": {},
   "outputs": [],
   "source": [
    "label_types = ['jacket', 'short pants', 'tailored pants', 'jumper', 'shirts', 'coat', 'dress', 'casual pants', 'blouse', 'tshirts', 'skirt', '뜯어짐', '외부오염', '찢어짐', '해짐']"
   ]
  },
  {
   "cell_type": "code",
   "execution_count": 4,
   "id": "4aa4d180-f131-4db4-990d-8417e5652ebd",
   "metadata": {},
   "outputs": [
    {
     "data": {
      "application/vnd.jupyter.widget-view+json": {
       "model_id": "67f5e6cad8b8485b949b24ce2471cc61",
       "version_major": 2,
       "version_minor": 0
      },
      "text/plain": [
       "  0%|          | 0/80000 [00:00<?, ?it/s]"
      ]
     },
     "metadata": {},
     "output_type": "display_data"
    }
   ],
   "source": [
    "pollution_types = []\n",
    "os.makedirs(\"/home/data/train/labels\", exist_ok=True)\n",
    "\n",
    "for label_path in tqdm(train_label_lst, total=len(train_label_lst)):\n",
    "    file_name = label_path.split('/')[-1]\n",
    "    label_data = pd.read_json(label_path)\n",
    "    cloth_label = label_data.loc['medium_category', 'meta_information']\n",
    "\n",
    "    objects = []\n",
    "    \n",
    "    img_width = label_data.loc['width', 'meta_information']\n",
    "    img_height = label_data.loc['height', 'meta_information']\n",
    "    cloth_x1, cloth_y1, cloth_x2, cloth_y2 = label_data.loc['clothes', 'annotations'][0]['bbox'][0]\n",
    "\n",
    "    cloth_cls = label_types.index(cloth_label)\n",
    "    cloth_cx = (cloth_x1 + cloth_x2) / (2 * img_width)\n",
    "    cloth_cy = (cloth_y1 + cloth_y2) / (2 * img_height)\n",
    "    cloth_width = (cloth_x2 - cloth_x1) / img_width\n",
    "    cloth_height = (cloth_y2 - cloth_y1) / img_height\n",
    "\n",
    "    objects.append(f'{cloth_cls} {cloth_cx} {cloth_cy} {cloth_width} {cloth_height}\\n')\n",
    "\n",
    "    if file_name[:2] == 'RC':\n",
    "        pollutions = label_data.loc['damage', 'annotations']\n",
    "        for poll in pollutions:\n",
    "            if poll['type'] in ['뜯어짐', '찢어짐', '해짐']:\n",
    "                poll['type'] = '뜯어짐'\n",
    "            poll_cls = label_types.index(poll['type'])\n",
    "            for poll_box in poll['bbox']:\n",
    "                poll_x1, poll_y1, poll_x2, poll_y2 = poll_box\n",
    "                poll_cx = (poll_x1 + poll_x2) / (2 * img_width)\n",
    "                poll_cy = (poll_y1 + poll_y2) / (2 * img_height)\n",
    "                poll_width = (poll_x2 - poll_x1) / img_width\n",
    "                poll_height = (poll_y2 - poll_y1) / img_height  \n",
    "\n",
    "                objects.append(f'{poll_cls} {poll_cx} {poll_cy} {poll_width} {poll_height}\\n')\n",
    "    elif file_name[:2] == 'DP':\n",
    "        pollutions = label_data.loc['pollution', 'annotations']\n",
    "        for poll in pollutions:\n",
    "            if poll['type'] in ['뜯어짐', '찢어짐', '해짐']:\n",
    "                poll['type'] = '뜯어짐'\n",
    "            poll_cls = label_types.index(poll['type'])\n",
    "            for poll_box in poll['bbox']:\n",
    "                poll_x1, poll_y1, poll_x2, poll_y2 = poll_box\n",
    "                poll_cx = (poll_x1 + poll_x2) / (2 * img_width)\n",
    "                poll_cy = (poll_y1 + poll_y2) / (2 * img_height)\n",
    "                poll_width = (poll_x2 - poll_x1) / img_width\n",
    "                poll_height = (poll_y2 - poll_y1) / img_height  \n",
    "\n",
    "                objects.append(f'{poll_cls} {poll_cx} {poll_cy} {poll_width} {poll_height}\\n')\n",
    "    else:\n",
    "        pass\n",
    "        \n",
    "    with open(f\"/home/data/train/labels/{file_name.replace('.json', '.txt')}\", 'w') as f:\n",
    "        f.writelines(objects)"
   ]
  },
  {
   "cell_type": "code",
   "execution_count": 5,
   "id": "c116df2a-6093-4500-94fc-8c3429413bfb",
   "metadata": {},
   "outputs": [],
   "source": [
    "# test_data_lst = sorted(list(glob(\"/home/data/test/images/*.jpg\")))\n",
    "test_label_lst = sorted(list(glob(\"/home/data/test/labels_old/*.json\")))"
   ]
  },
  {
   "cell_type": "code",
   "execution_count": 10,
   "id": "acc3466c-e952-4de8-925a-6e0a4b06e081",
   "metadata": {},
   "outputs": [
    {
     "data": {
      "application/vnd.jupyter.widget-view+json": {
       "model_id": "4e1db22d262b42b4b96c27909176618d",
       "version_major": 2,
       "version_minor": 0
      },
      "text/plain": [
       "  0%|          | 0/10000 [00:00<?, ?it/s]"
      ]
     },
     "metadata": {},
     "output_type": "display_data"
    }
   ],
   "source": [
    "pollution_types = []\n",
    "os.makedirs(\"/home/data/test/labels\", exist_ok=True)\n",
    "\n",
    "for label_path in tqdm(test_label_lst, total=len(test_label_lst)):\n",
    "    file_name = label_path.split('/')[-1]\n",
    "    label_data = pd.read_json(label_path)\n",
    "    cloth_label = label_data.loc['medium_category', 'meta_information']\n",
    "\n",
    "    objects = []\n",
    "    \n",
    "    img_width = label_data.loc['width', 'meta_information']\n",
    "    img_height = label_data.loc['height', 'meta_information']\n",
    "    cloth_x1, cloth_y1, cloth_x2, cloth_y2 = label_data.loc['clothes', 'annotations'][0]['bbox'][0]\n",
    "\n",
    "    cloth_cls = label_types.index(cloth_label)\n",
    "    cloth_cx = (cloth_x1 + cloth_x2) / (2 * img_width)\n",
    "    cloth_cy = (cloth_y1 + cloth_y2) / (2 * img_height)\n",
    "    cloth_width = (cloth_x2 - cloth_x1) / img_width\n",
    "    cloth_height = (cloth_y2 - cloth_y1) / img_height\n",
    "\n",
    "    objects.append(f'{cloth_cls} {cloth_cx} {cloth_cy} {cloth_width} {cloth_height}\\n')\n",
    "\n",
    "    if file_name[:2] == 'RC':\n",
    "        pollutions = label_data.loc['damage', 'annotations']\n",
    "        for poll in pollutions:\n",
    "            if poll['type'] in ['뜯어짐', '찢어짐', '해짐']:\n",
    "                poll['type'] = '뜯어짐'\n",
    "            poll_cls = label_types.index(poll['type'])\n",
    "            for poll_box in poll['bbox']:\n",
    "                poll_x1, poll_y1, poll_x2, poll_y2 = poll_box\n",
    "                poll_cx = (poll_x1 + poll_x2) / (2 * img_width)\n",
    "                poll_cy = (poll_y1 + poll_y2) / (2 * img_height)\n",
    "                poll_width = (poll_x2 - poll_x1) / img_width\n",
    "                poll_height = (poll_y2 - poll_y1) / img_height  \n",
    "\n",
    "                objects.append(f'{poll_cls} {poll_cx} {poll_cy} {poll_width} {poll_height}\\n')\n",
    "    elif file_name[:2] == 'DP':\n",
    "        pollutions = label_data.loc['pollution', 'annotations']\n",
    "        for poll in pollutions:\n",
    "            if poll['type'] in ['뜯어짐', '찢어짐', '해짐']:\n",
    "                poll['type'] = '뜯어짐'\n",
    "            poll_cls = label_types.index(poll['type'])\n",
    "            for poll_box in poll['bbox']:\n",
    "                poll_x1, poll_y1, poll_x2, poll_y2 = poll_box\n",
    "                poll_cx = (poll_x1 + poll_x2) / (2 * img_width)\n",
    "                poll_cy = (poll_y1 + poll_y2) / (2 * img_height)\n",
    "                poll_width = (poll_x2 - poll_x1) / img_width\n",
    "                poll_height = (poll_y2 - poll_y1) / img_height  \n",
    "\n",
    "                objects.append(f'{poll_cls} {poll_cx} {poll_cy} {poll_width} {poll_height}\\n')\n",
    "    else:\n",
    "        pass\n",
    "        \n",
    "    with open(f\"/home/data/test/labels/{file_name.replace('.json', '.txt')}\", 'w') as f:\n",
    "        f.writelines(objects)"
   ]
  },
  {
   "cell_type": "markdown",
   "id": "fd8bc524-940e-4092-896a-96fc2294afc7",
   "metadata": {},
   "source": [
    "### Create Validation Set"
   ]
  },
  {
   "cell_type": "code",
   "execution_count": 6,
   "id": "2a58a0e8-2ef5-4538-b473-8b767a513b4d",
   "metadata": {},
   "outputs": [],
   "source": [
    "import os\n",
    "import sys\n",
    "import random\n",
    "import shutil\n",
    "import pandas as pd\n",
    "\n",
    "from glob import glob\n",
    "from tqdm.auto import tqdm\n",
    "from PIL import Image, ImageDraw"
   ]
  },
  {
   "cell_type": "code",
   "execution_count": 7,
   "id": "4380c2e2-5183-4e29-9a4a-c6bb1953d8c8",
   "metadata": {},
   "outputs": [],
   "source": [
    "train_label_lst = sorted(list(glob(\"/home/data/train/labels/*.txt\")))"
   ]
  },
  {
   "cell_type": "code",
   "execution_count": 8,
   "id": "d709d867-a43b-4998-ba45-3aca15fe6e03",
   "metadata": {},
   "outputs": [],
   "source": [
    "prefix_lst = ['RC_SH', 'RU_CP', 'RU_BL', 'RC_JK', 'RU_JK', 'DP_JK', 'DP_CO', 'RU_SH', 'DP_TP', 'DP_CP', 'RC_SP', 'RU_SK', 'RC_JP', 'DP_TS', 'RU_SP', 'RU_DR', 'RC_CO', 'DP_JP', 'RU_TP', 'DP_DR', 'DP_BL', 'RC_BL', 'RC_DR', 'RU_TS', 'RU_CO', 'RU_JP', 'RC_TS', 'DP_SP', 'DP_SK', 'RC_SK', 'RC_CP', 'RC_TP', 'DP_SH']"
   ]
  },
  {
   "cell_type": "code",
   "execution_count": 9,
   "id": "584e0dcc-3266-4ca4-a742-2dcb0b1d4b65",
   "metadata": {},
   "outputs": [],
   "source": [
    "train_label_dir = \"/home/data/train/labels\"\n",
    "train_image_dir = \"/home/data/train/images\"\n",
    "\n",
    "val_label_dir = \"/home/data/val/labels\"\n",
    "val_image_dir = \"/home/data/val/images\"\n",
    "\n",
    "os.makedirs(val_label_dir, exist_ok=True)\n",
    "os.makedirs(val_image_dir, exist_ok=True)"
   ]
  },
  {
   "cell_type": "code",
   "execution_count": 10,
   "id": "19808577-c48f-43f8-a7a8-54e8f74e3233",
   "metadata": {},
   "outputs": [
    {
     "data": {
      "application/vnd.jupyter.widget-view+json": {
       "model_id": "13a39b0d35d1480d91c2c372f6916667",
       "version_major": 2,
       "version_minor": 0
      },
      "text/plain": [
       "  0%|          | 0/33 [00:00<?, ?it/s]"
      ]
     },
     "metadata": {},
     "output_type": "display_data"
    }
   ],
   "source": [
    "prefix_groups = {prefix: [] for prefix in prefix_lst}\n",
    "for label_path in train_label_lst:\n",
    "    file_name = os.path.basename(label_path)\n",
    "    for prefix in prefix_lst:\n",
    "        if file_name.startswith(prefix):\n",
    "            prefix_groups[prefix].append(label_path)\n",
    "            break\n",
    "\n",
    "# 파일 이동 처리\n",
    "for prefix, labels in tqdm(prefix_groups.items(), total=len(prefix_groups)):\n",
    "    sample_size = int(len(labels) * 0.2)\n",
    "    if sample_size > 0:\n",
    "        selected_labels = random.sample(labels, sample_size)\n",
    "        \n",
    "        for label_path in selected_labels:\n",
    "            # 이미지 파일 경로 생성\n",
    "            image_file = os.path.basename(label_path).replace('.txt', '.jpg')\n",
    "            # image_path = os.path.join(train_image_dir, image_file)\n",
    "            \n",
    "            # 이동 대상 파일 경로\n",
    "            dst_label = os.path.join(val_label_dir, os.path.basename(label_path))\n",
    "            # dst_image = os.path.join(val_image_dir, image_file)\n",
    "            \n",
    "            # 실제 이동\n",
    "            shutil.move(label_path, dst_label)\n",
    "            # shutil.move(image_path, dst_image)"
   ]
  },
  {
   "cell_type": "code",
   "execution_count": 11,
   "id": "e0955b18-c243-4cff-b969-3e74ab6c58f1",
   "metadata": {},
   "outputs": [],
   "source": [
    "train_image_lst = sorted(list(glob(\"/home/data/train/images/*.jpg\")))\n",
    "train_label_lst = sorted(list(glob(\"/home/data/train/labels/*.txt\")))\n",
    "val_image_lst = sorted(list(glob(\"/home/data/val/images/*.jpg\")))\n",
    "val_label_lst = sorted(list(glob(\"/home/data/val/labels/*.txt\")))"
   ]
  },
  {
   "cell_type": "code",
   "execution_count": 12,
   "id": "b984fcea-fabf-41ac-b7e6-73cda3b0b20e",
   "metadata": {},
   "outputs": [
    {
     "name": "stdout",
     "output_type": "stream",
     "text": [
      "64012 64012 15988 15988\n"
     ]
    }
   ],
   "source": [
    "print(len(train_image_lst), len(train_label_lst), len(val_image_lst), len(val_label_lst))"
   ]
  },
  {
   "cell_type": "code",
   "execution_count": null,
   "id": "69c3fe38-a26f-4584-a2de-9fe92af26ede",
   "metadata": {},
   "outputs": [],
   "source": []
  }
 ],
 "metadata": {
  "kernelspec": {
   "display_name": "Python 3 (ipykernel)",
   "language": "python",
   "name": "python3"
  },
  "language_info": {
   "codemirror_mode": {
    "name": "ipython",
    "version": 3
   },
   "file_extension": ".py",
   "mimetype": "text/x-python",
   "name": "python",
   "nbconvert_exporter": "python",
   "pygments_lexer": "ipython3",
   "version": "3.8.10"
  }
 },
 "nbformat": 4,
 "nbformat_minor": 5
}
